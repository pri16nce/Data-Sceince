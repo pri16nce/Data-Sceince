{
  "nbformat": 4,
  "nbformat_minor": 0,
  "metadata": {
    "colab": {
      "provenance": []
    },
    "kernelspec": {
      "name": "python3",
      "display_name": "Python 3"
    },
    "language_info": {
      "name": "python"
    }
  },
  "cells": [
    {
      "cell_type": "code",
      "execution_count": 4,
      "metadata": {
        "colab": {
          "base_uri": "https://localhost:8080/"
        },
        "id": "nyQ0-lVsPMqG",
        "outputId": "a1b77fad-aa15-41b7-cf7e-1c1ead5ca9f1"
      },
      "outputs": [
        {
          "output_type": "stream",
          "name": "stdout",
          "text": [
            "25\n",
            "26\n",
            "27\n",
            "28\n",
            "29\n",
            "30\n",
            "31\n",
            "32\n",
            "33\n",
            "34\n",
            "35\n",
            "36\n",
            "37\n",
            "38\n",
            "39\n",
            "40\n",
            "41\n",
            "42\n",
            "43\n",
            "44\n",
            "45\n",
            "46\n",
            "47\n",
            "48\n",
            "49\n",
            "50\n",
            "51\n",
            "52\n",
            "53\n",
            "54\n",
            "55\n",
            "56\n",
            "57\n",
            "58\n",
            "59\n",
            "60\n",
            "sorry its time to retire\n"
          ]
        }
      ],
      "source": [
        "joining_age=25\n",
        "while joining_age<=60:\n",
        "  print(joining_age)\n",
        "  joining_age=joining_age+1\n",
        "else:\n",
        "  print(\"sorry its time to retire\")"
      ]
    },
    {
      "cell_type": "code",
      "source": [
        "total=1000\n",
        "while total!=0:\n",
        "  print(total)\n",
        "  total=total-100\n",
        "else:\n",
        "  print(\"Your bank account is empty\")"
      ],
      "metadata": {
        "colab": {
          "base_uri": "https://localhost:8080/"
        },
        "id": "ywJFJbvaQHMj",
        "outputId": "b6538246-8315-4f8e-9661-59a41a3fbaf4"
      },
      "execution_count": 5,
      "outputs": [
        {
          "output_type": "stream",
          "name": "stdout",
          "text": [
            "1000\n",
            "900\n",
            "800\n",
            "700\n",
            "600\n",
            "500\n",
            "400\n",
            "300\n",
            "200\n",
            "100\n",
            "Your bank account is empty\n"
          ]
        }
      ]
    },
    {
      "cell_type": "code",
      "source": [
        "lst=[\"Krish\",1,2,3,4,\"Banana\"]\n",
        "type(lst)"
      ],
      "metadata": {
        "colab": {
          "base_uri": "https://localhost:8080/"
        },
        "id": "bbdLFWJKRZXU",
        "outputId": "4ec1ba1e-7aa8-4de5-8ef1-5f988436cd17"
      },
      "execution_count": 9,
      "outputs": [
        {
          "output_type": "execute_result",
          "data": {
            "text/plain": [
              "list"
            ]
          },
          "metadata": {},
          "execution_count": 9
        }
      ]
    },
    {
      "cell_type": "code",
      "source": [
        "lst[0]"
      ],
      "metadata": {
        "colab": {
          "base_uri": "https://localhost:8080/",
          "height": 35
        },
        "id": "AtakRX5hSTfu",
        "outputId": "1c41e9b0-c702-49cf-bd86-38bd361341ce"
      },
      "execution_count": 10,
      "outputs": [
        {
          "output_type": "execute_result",
          "data": {
            "text/plain": [
              "'Krish'"
            ],
            "application/vnd.google.colaboratory.intrinsic+json": {
              "type": "string"
            }
          },
          "metadata": {},
          "execution_count": 10
        }
      ]
    },
    {
      "cell_type": "code",
      "source": [
        "lst[4]"
      ],
      "metadata": {
        "colab": {
          "base_uri": "https://localhost:8080/"
        },
        "id": "BbfP1bmUS24y",
        "outputId": "e190db97-1483-4f34-c719-6d7ead60ab9d"
      },
      "execution_count": 11,
      "outputs": [
        {
          "output_type": "execute_result",
          "data": {
            "text/plain": [
              "4"
            ]
          },
          "metadata": {},
          "execution_count": 11
        }
      ]
    },
    {
      "cell_type": "code",
      "source": [
        "lst"
      ],
      "metadata": {
        "colab": {
          "base_uri": "https://localhost:8080/"
        },
        "id": "64DMGHVES4ve",
        "outputId": "ac78cfb1-6427-4261-9142-7840bd7fe28d"
      },
      "execution_count": 12,
      "outputs": [
        {
          "output_type": "execute_result",
          "data": {
            "text/plain": [
              "['Krish', 1, 2, 3, 4, 'Banana']"
            ]
          },
          "metadata": {},
          "execution_count": 12
        }
      ]
    },
    {
      "cell_type": "code",
      "source": [
        "for i in lst:\n",
        "  print(i)"
      ],
      "metadata": {
        "colab": {
          "base_uri": "https://localhost:8080/"
        },
        "id": "BnXlryeoS7_O",
        "outputId": "b62e08a1-e0e9-4dd5-8255-4611dfc306c1"
      },
      "execution_count": 13,
      "outputs": [
        {
          "output_type": "stream",
          "name": "stdout",
          "text": [
            "Krish\n",
            "1\n",
            "2\n",
            "3\n",
            "4\n",
            "Banana\n"
          ]
        }
      ]
    },
    {
      "cell_type": "code",
      "source": [
        "fruits=[\"banana\",\"apple\",\"grapes\",\"mango\",\"cherry\"]\n",
        "for i in fruits:\n",
        "  print(i,end=' ')\n",
        "  if i==\"mango\":\n",
        "    print(i,end=' ') "
      ],
      "metadata": {
        "colab": {
          "base_uri": "https://localhost:8080/"
        },
        "id": "r5vfLvIzTI8d",
        "outputId": "bb58b37d-02cd-4adb-b4f2-0bdf3f4d39c3"
      },
      "execution_count": 18,
      "outputs": [
        {
          "output_type": "stream",
          "name": "stdout",
          "text": [
            "banana apple grapes mango mango cherry "
          ]
        }
      ]
    },
    {
      "cell_type": "code",
      "source": [
        "fruit='Mango'\n",
        "for i in fruit:\n",
        "  print(i,end='  ')"
      ],
      "metadata": {
        "colab": {
          "base_uri": "https://localhost:8080/"
        },
        "id": "gAooSsnvTqpu",
        "outputId": "4a2bad8f-42bf-4e61-886b-63b7a76ffd34"
      },
      "execution_count": 23,
      "outputs": [
        {
          "output_type": "stream",
          "name": "stdout",
          "text": [
            "M  a  n  g  o  "
          ]
        }
      ]
    },
    {
      "cell_type": "code",
      "source": [
        "fruit[0]"
      ],
      "metadata": {
        "colab": {
          "base_uri": "https://localhost:8080/",
          "height": 35
        },
        "id": "XInI61NTU7tp",
        "outputId": "7253295d-3fe2-4e2a-8a72-0eb26845eeb8"
      },
      "execution_count": 20,
      "outputs": [
        {
          "output_type": "execute_result",
          "data": {
            "text/plain": [
              "'M'"
            ],
            "application/vnd.google.colaboratory.intrinsic+json": {
              "type": "string"
            }
          },
          "metadata": {},
          "execution_count": 20
        }
      ]
    },
    {
      "cell_type": "code",
      "source": [
        "for i in range(1,10,2):\n",
        "  print(i)"
      ],
      "metadata": {
        "colab": {
          "base_uri": "https://localhost:8080/"
        },
        "id": "kFEdqdHjU9hN",
        "outputId": "1da81421-9fa3-4ee7-99e3-1bc01278901f"
      },
      "execution_count": 25,
      "outputs": [
        {
          "output_type": "stream",
          "name": "stdout",
          "text": [
            "1\n",
            "3\n",
            "5\n",
            "7\n",
            "9\n"
          ]
        }
      ]
    },
    {
      "cell_type": "code",
      "source": [
        "n=7\n",
        "for i in range(0,n):\n",
        "  for j in range(0,i+1):\n",
        "    print(\"*\",end=\"\")\n",
        "  print(\"\\r\")"
      ],
      "metadata": {
        "colab": {
          "base_uri": "https://localhost:8080/"
        },
        "id": "KCxMCnpiWTs6",
        "outputId": "b449d2b6-4189-4b8c-c282-0d5eab52b5a6"
      },
      "execution_count": 28,
      "outputs": [
        {
          "output_type": "stream",
          "name": "stdout",
          "text": [
            "*\r\n",
            "**\r\n",
            "***\r\n",
            "****\r\n",
            "*****\r\n",
            "******\r\n",
            "*******\r\n"
          ]
        }
      ]
    },
    {
      "cell_type": "code",
      "source": [
        "fruits=[\"banana\",\"apple\",\"grapes\",\"mango\",\"cherry\"]\n",
        "for i in fruits:\n",
        "  if i==\"apple\":\n",
        "    print(\"fruit is apple\")\n",
        "    pass\n",
        "  print(i)"
      ],
      "metadata": {
        "colab": {
          "base_uri": "https://localhost:8080/"
        },
        "id": "EFWwa4K4XWRP",
        "outputId": "fa7bff43-e327-4568-81c7-9f96fb8cfad1"
      },
      "execution_count": 32,
      "outputs": [
        {
          "output_type": "stream",
          "name": "stdout",
          "text": [
            "banana\n",
            "fruit is apple\n",
            "apple\n",
            "grapes\n",
            "mango\n",
            "cherry\n"
          ]
        }
      ]
    },
    {
      "cell_type": "code",
      "source": [],
      "metadata": {
        "colab": {
          "base_uri": "https://localhost:8080/"
        },
        "id": "uwYypXAiZmgI",
        "outputId": "ae9fb1e3-f627-43f1-c49e-41f65ccb5712"
      },
      "execution_count": 46,
      "outputs": [
        {
          "output_type": "stream",
          "name": "stdout",
          "text": [
            "  *  *  **  *  *  *\n",
            "\n",
            "  *  ****  *  *\n",
            "\n",
            "  ******  *\n",
            "\n",
            "*******\n",
            "\n"
          ]
        }
      ]
    },
    {
      "cell_type": "code",
      "source": [],
      "metadata": {
        "id": "4Mx-OzBkdzx_"
      },
      "execution_count": null,
      "outputs": []
    }
  ]
}